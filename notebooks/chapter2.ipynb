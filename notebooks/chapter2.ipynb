{
  "cells": [
    {
      "cell_type": "markdown",
      "metadata": {
        "colab_type": "text",
        "id": "view-in-github"
      },
      "source": [
        "<a href=\"https://colab.research.google.com/github/deep-diver/deeplearning-with-structured-data/blob/master/notebooks/chapter2.ipynb\" target=\"_parent\"><img src=\"https://colab.research.google.com/assets/colab-badge.svg\" alt=\"Open In Colab\"/></a>"
      ]
    },
    {
      "cell_type": "markdown",
      "metadata": {
        "id": "-m3dplXmmnQb"
      },
      "source": [
        "# \"딥러닝으로 다루는 정형 데이터\" 2장에 대한 코드\n",
        "2장에서 다루는 코드를 담은 노트북입니다.\n",
        "\n",
        "여기서 사용되는 코드는 \"data\" 라는 디렉터리에 아래의 파일이 담겨 있다는것을 가정합니다. \"data\" 디렉터리는 \"notebook\" 디렉터리와 같은 계위에 놓여있습니다.\n",
        "- iriscaps.csv\n",
        "- ttc-streetcar-delay-data-2014.xlsx "
      ]
    },
    {
      "cell_type": "code",
      "execution_count": 1,
      "metadata": {
        "colab": {
          "base_uri": "https://localhost:8080/"
        },
        "id": "ozIrWQxvmnQc",
        "outputId": "d7ffa9ef-8f84-4e55-8e38-8c8bd808fd6f"
      },
      "outputs": [
        {
          "name": "stdout",
          "output_type": "stream",
          "text": [
            "현재 경로는 /Volumes/T7/git/structured-data/notebooks 입니다\n"
          ]
        }
      ],
      "source": [
        "# 현재 노트북 디렉터리의 경로를 가져옵니다\n",
        "import os\n",
        "rawpath = os.getcwd()\n",
        "print(\"현재 경로는\", rawpath, \"입니다\")"
      ]
    },
    {
      "cell_type": "code",
      "execution_count": 14,
      "metadata": {
        "colab": {
          "base_uri": "https://localhost:8080/"
        },
        "id": "tHA0xGi7mnQd",
        "outputId": "365382a2-cf2c-4d7f-8ba6-824942b23316"
      },
      "outputs": [
        {
          "name": "stdout",
          "output_type": "stream",
          "text": [
            "data 디렉터리 경로는 /Volumes/T7/git/structured-data/data 입니다\n"
          ]
        }
      ],
      "source": [
        "# \"data\" 디렉터리 경로를 가져옵니다.\n",
        "# 지금부터의 코드는 모든 XLS 파일이 \"data\" 디렉터리에 존재한다고 가정합니다.\n",
        "# 예제소스가 담긴 저장소를 복제하면 모든 파일이 이미 들어있습니다.\n",
        "# XLS 파일 다운로드 주소: https://www.toronto.ca/city-government/data-research-maps/open-data/open-data-catalogue/#e8f359f0-2f47-3058-bf64-6ec488de52da\n",
        "\n",
        "# Google Colab을 사용하지 않는경우, 아래의 코드를 다음과 같이 변경합니다.\n",
        "# path = os.path.abspath(os.path.join(rawpath, '..', 'data'))\n",
        "#path = os.path.abspath(os.path.join(rawpath, 'data'))\n",
        "path = '/Volumes/T7/git/structured-data/data'\n",
        "print(\"data 디렉터리 경로는\", path, \"입니다\")"
      ]
    },
    {
      "cell_type": "code",
      "execution_count": 3,
      "metadata": {
        "colab": {
          "base_uri": "https://localhost:8080/",
          "height": 204
        },
        "id": "cRYO21QemnQe",
        "outputId": "a0d44864-4f1d-4d1d-a567-6d62e9156404"
      },
      "outputs": [
        {
          "data": {
            "text/html": [
              "<div>\n",
              "<style scoped>\n",
              "    .dataframe tbody tr th:only-of-type {\n",
              "        vertical-align: middle;\n",
              "    }\n",
              "\n",
              "    .dataframe tbody tr th {\n",
              "        vertical-align: top;\n",
              "    }\n",
              "\n",
              "    .dataframe thead th {\n",
              "        text-align: right;\n",
              "    }\n",
              "</style>\n",
              "<table border=\"1\" class=\"dataframe\">\n",
              "  <thead>\n",
              "    <tr style=\"text-align: right;\">\n",
              "      <th></th>\n",
              "      <th>sepal_length</th>\n",
              "      <th>sepal_width</th>\n",
              "      <th>petal_length</th>\n",
              "      <th>petal_width</th>\n",
              "      <th>species</th>\n",
              "    </tr>\n",
              "  </thead>\n",
              "  <tbody>\n",
              "    <tr>\n",
              "      <th>0</th>\n",
              "      <td>5.1</td>\n",
              "      <td>3.5</td>\n",
              "      <td>1.4</td>\n",
              "      <td>0.2</td>\n",
              "      <td>setosa</td>\n",
              "    </tr>\n",
              "    <tr>\n",
              "      <th>1</th>\n",
              "      <td>4.9</td>\n",
              "      <td>3.0</td>\n",
              "      <td>1.4</td>\n",
              "      <td>0.2</td>\n",
              "      <td>setosa</td>\n",
              "    </tr>\n",
              "    <tr>\n",
              "      <th>2</th>\n",
              "      <td>4.7</td>\n",
              "      <td>3.2</td>\n",
              "      <td>1.3</td>\n",
              "      <td>0.2</td>\n",
              "      <td>setosa</td>\n",
              "    </tr>\n",
              "    <tr>\n",
              "      <th>3</th>\n",
              "      <td>4.6</td>\n",
              "      <td>3.1</td>\n",
              "      <td>1.5</td>\n",
              "      <td>0.2</td>\n",
              "      <td>setosa</td>\n",
              "    </tr>\n",
              "    <tr>\n",
              "      <th>4</th>\n",
              "      <td>5.0</td>\n",
              "      <td>3.6</td>\n",
              "      <td>1.4</td>\n",
              "      <td>0.2</td>\n",
              "      <td>setosa</td>\n",
              "    </tr>\n",
              "  </tbody>\n",
              "</table>\n",
              "</div>"
            ],
            "text/plain": [
              "   sepal_length  sepal_width  petal_length  petal_width species\n",
              "0           5.1          3.5           1.4          0.2  setosa\n",
              "1           4.9          3.0           1.4          0.2  setosa\n",
              "2           4.7          3.2           1.3          0.2  setosa\n",
              "3           4.6          3.1           1.5          0.2  setosa\n",
              "4           5.0          3.6           1.4          0.2  setosa"
            ]
          },
          "execution_count": 3,
          "metadata": {},
          "output_type": "execute_result"
        }
      ],
      "source": [
        "# 팬더스 라이브러리를 불러옵니다\n",
        "import pandas as pd\n",
        "\n",
        "# 아이리스 데이터셋의 URL\n",
        "url=\"https://gist.githubusercontent.com/curran/a08a1080b88344b0c8a7/raw/d546eaee765268bf2f487608c537c05e22e4b221/iris.csv\"\n",
        "\n",
        "# 해당 URL의 CSV를 팬더스 데이터프레임으로 만듭니다\n",
        "iris_dataframe=pd.read_csv(url)\n",
        "\n",
        "# 데이터프레임의 첫 다섯 개의 데이터를 출력합니다\n",
        "iris_dataframe.head()\n"
      ]
    },
    {
      "cell_type": "code",
      "execution_count": 4,
      "metadata": {
        "colab": {
          "base_uri": "https://localhost:8080/"
        },
        "id": "HByxn-hgmnQe",
        "outputId": "f5d006e0-7ab5-4899-e8a1-b83b95c582f8"
      },
      "outputs": [
        {
          "data": {
            "text/plain": [
              "150"
            ]
          },
          "execution_count": 4,
          "metadata": {},
          "output_type": "execute_result"
        }
      ],
      "source": [
        "# 데이터의 총 개수를 출력합니다\n",
        "iris_dataframe.shape[0]"
      ]
    },
    {
      "cell_type": "code",
      "execution_count": 5,
      "metadata": {
        "colab": {
          "base_uri": "https://localhost:8080/",
          "height": 204
        },
        "id": "m2E5ISGGmnQe",
        "outputId": "f4e3d1d0-8653-43a3-8e67-165c81d9603a"
      },
      "outputs": [
        {
          "data": {
            "text/html": [
              "<div>\n",
              "<style scoped>\n",
              "    .dataframe tbody tr th:only-of-type {\n",
              "        vertical-align: middle;\n",
              "    }\n",
              "\n",
              "    .dataframe tbody tr th {\n",
              "        vertical-align: top;\n",
              "    }\n",
              "\n",
              "    .dataframe thead th {\n",
              "        text-align: right;\n",
              "    }\n",
              "</style>\n",
              "<table border=\"1\" class=\"dataframe\">\n",
              "  <thead>\n",
              "    <tr style=\"text-align: right;\">\n",
              "      <th></th>\n",
              "      <th>sepal_length</th>\n",
              "      <th>sepal_width</th>\n",
              "      <th>petal_length</th>\n",
              "      <th>petal_width</th>\n",
              "      <th>species</th>\n",
              "    </tr>\n",
              "  </thead>\n",
              "  <tbody>\n",
              "    <tr>\n",
              "      <th>0</th>\n",
              "      <td>5.1</td>\n",
              "      <td>3.5</td>\n",
              "      <td>1.4</td>\n",
              "      <td>0.2</td>\n",
              "      <td>setosa</td>\n",
              "    </tr>\n",
              "    <tr>\n",
              "      <th>1</th>\n",
              "      <td>4.9</td>\n",
              "      <td>3.0</td>\n",
              "      <td>1.4</td>\n",
              "      <td>0.2</td>\n",
              "      <td>setosa</td>\n",
              "    </tr>\n",
              "    <tr>\n",
              "      <th>2</th>\n",
              "      <td>4.7</td>\n",
              "      <td>3.2</td>\n",
              "      <td>1.3</td>\n",
              "      <td>0.2</td>\n",
              "      <td>setosa</td>\n",
              "    </tr>\n",
              "    <tr>\n",
              "      <th>3</th>\n",
              "      <td>4.6</td>\n",
              "      <td>3.1</td>\n",
              "      <td>1.5</td>\n",
              "      <td>0.2</td>\n",
              "      <td>setosa</td>\n",
              "    </tr>\n",
              "    <tr>\n",
              "      <th>4</th>\n",
              "      <td>5.0</td>\n",
              "      <td>3.6</td>\n",
              "      <td>1.4</td>\n",
              "      <td>0.2</td>\n",
              "      <td>setosa</td>\n",
              "    </tr>\n",
              "  </tbody>\n",
              "</table>\n",
              "</div>"
            ],
            "text/plain": [
              "   sepal_length  sepal_width  petal_length  petal_width species\n",
              "0           5.1          3.5           1.4          0.2  setosa\n",
              "1           4.9          3.0           1.4          0.2  setosa\n",
              "2           4.7          3.2           1.3          0.2  setosa\n",
              "3           4.6          3.1           1.5          0.2  setosa\n",
              "4           5.0          3.6           1.4          0.2  setosa"
            ]
          },
          "execution_count": 5,
          "metadata": {},
          "output_type": "execute_result"
        }
      ],
      "source": [
        "# species(품종)이 \"setosa\"인 데이터로 필터링 한 뒤, \n",
        "# 그 중 첫 다섯 개의 데이터만 출력합니다\n",
        "setosa_frame = iris_dataframe[iris_dataframe[\"species\"] == 'setosa']\n",
        "setosa_frame.head()"
      ]
    },
    {
      "cell_type": "code",
      "execution_count": 6,
      "metadata": {
        "colab": {
          "base_uri": "https://localhost:8080/"
        },
        "id": "bKqSSy7PmnQf",
        "outputId": "e31c2c4b-96d0-4466-fe89-37cf7861bc83"
      },
      "outputs": [
        {
          "data": {
            "text/plain": [
              "50"
            ]
          },
          "execution_count": 6,
          "metadata": {},
          "output_type": "execute_result"
        }
      ],
      "source": [
        "# species(품종)이 \"setosa\"인 데이터의 개수를 출력합니다\n",
        "iris_dataframe[iris_dataframe[\"species\"] == 'setosa'].shape[0] "
      ]
    },
    {
      "cell_type": "code",
      "execution_count": 9,
      "metadata": {
        "colab": {
          "base_uri": "https://localhost:8080/",
          "height": 204
        },
        "id": "FmndYo6RmnQf",
        "outputId": "c8a1ade5-5bb5-42b5-e319-db2b9632f634"
      },
      "outputs": [
        {
          "data": {
            "text/html": [
              "<div>\n",
              "<style scoped>\n",
              "    .dataframe tbody tr th:only-of-type {\n",
              "        vertical-align: middle;\n",
              "    }\n",
              "\n",
              "    .dataframe tbody tr th {\n",
              "        vertical-align: top;\n",
              "    }\n",
              "\n",
              "    .dataframe thead th {\n",
              "        text-align: right;\n",
              "    }\n",
              "</style>\n",
              "<table border=\"1\" class=\"dataframe\">\n",
              "  <thead>\n",
              "    <tr style=\"text-align: right;\">\n",
              "      <th></th>\n",
              "      <th>sepal_length</th>\n",
              "      <th>sepal_width</th>\n",
              "      <th>petal_length</th>\n",
              "      <th>petal_width</th>\n",
              "      <th>species</th>\n",
              "    </tr>\n",
              "  </thead>\n",
              "  <tbody>\n",
              "    <tr>\n",
              "      <th>0</th>\n",
              "      <td>5.1</td>\n",
              "      <td>3.5</td>\n",
              "      <td>1.4</td>\n",
              "      <td>0.2</td>\n",
              "      <td>Setosa</td>\n",
              "    </tr>\n",
              "    <tr>\n",
              "      <th>1</th>\n",
              "      <td>4.9</td>\n",
              "      <td>3.0</td>\n",
              "      <td>1.4</td>\n",
              "      <td>0.2</td>\n",
              "      <td>Setosa</td>\n",
              "    </tr>\n",
              "    <tr>\n",
              "      <th>2</th>\n",
              "      <td>4.7</td>\n",
              "      <td>3.2</td>\n",
              "      <td>1.3</td>\n",
              "      <td>0.2</td>\n",
              "      <td>Setosa</td>\n",
              "    </tr>\n",
              "    <tr>\n",
              "      <th>3</th>\n",
              "      <td>4.6</td>\n",
              "      <td>3.1</td>\n",
              "      <td>1.5</td>\n",
              "      <td>0.2</td>\n",
              "      <td>Setosa</td>\n",
              "    </tr>\n",
              "    <tr>\n",
              "      <th>4</th>\n",
              "      <td>5.0</td>\n",
              "      <td>3.6</td>\n",
              "      <td>1.4</td>\n",
              "      <td>0.2</td>\n",
              "      <td>Setosa</td>\n",
              "    </tr>\n",
              "  </tbody>\n",
              "</table>\n",
              "</div>"
            ],
            "text/plain": [
              "   sepal_length  sepal_width  petal_length  petal_width species\n",
              "0           5.1          3.5           1.4          0.2  Setosa\n",
              "1           4.9          3.0           1.4          0.2  Setosa\n",
              "2           4.7          3.2           1.3          0.2  Setosa\n",
              "3           4.6          3.1           1.5          0.2  Setosa\n",
              "4           5.0          3.6           1.4          0.2  Setosa"
            ]
          },
          "execution_count": 9,
          "metadata": {},
          "output_type": "execute_result"
        }
      ],
      "source": [
        "# 팬더스 라이브러리를 불러옵니다\n",
        "import pandas as pd\n",
        "\n",
        "# 이번에는 data 디렉터리에 포함된 아이리스 데이터를 사용합니다\n",
        "# 아래는 해당 데이터셋의 CSV 파일명 입니다\n",
        "file = \"/Volumes/T7/git/structured-data/data/iriscaps.csv\"\n",
        "\n",
        "# 해당 파일을 팬더스 데이터프레임으로 만듭니다\n",
        "iris_dataframe=pd.read_csv(os.path.join(path,file))\n",
        "\n",
        "# 데이터프레임의 첫 다섯 개의 데이터를 출력합니다\n",
        "iris_dataframe.head()"
      ]
    },
    {
      "cell_type": "code",
      "execution_count": 11,
      "metadata": {
        "colab": {
          "base_uri": "https://localhost:8080/"
        },
        "id": "vWVykCFWmnQg",
        "outputId": "0e731449-cbc8-4aef-ea95-ec9e6743ff2e"
      },
      "outputs": [
        {
          "name": "stdout",
          "output_type": "stream",
          "text": [
            "Requirement already satisfied: xlrd in /Users/jason/.local/lib/python3.9/site-packages (2.0.1)\n",
            "\n",
            "\u001b[1m[\u001b[0m\u001b[34;49mnotice\u001b[0m\u001b[1;39;49m]\u001b[0m\u001b[39;49m A new release of pip available: \u001b[0m\u001b[31;49m22.1.2\u001b[0m\u001b[39;49m -> \u001b[0m\u001b[32;49m22.2.1\u001b[0m\n",
            "\u001b[1m[\u001b[0m\u001b[34;49mnotice\u001b[0m\u001b[1;39;49m]\u001b[0m\u001b[39;49m To update, run: \u001b[0m\u001b[32;49mpip install --upgrade pip\u001b[0m\n",
            "Requirement already satisfied: pip in /Users/jason/.local/lib/python3.9/site-packages (22.1.2)\n",
            "Collecting pip\n",
            "  Downloading pip-22.2.1-py3-none-any.whl (2.0 MB)\n",
            "\u001b[2K     \u001b[90m━━━━━━━━━━━━━━━━━━━━━━━━━━━━━━━━━━━━━━━━\u001b[0m \u001b[32m2.0/2.0 MB\u001b[0m \u001b[31m17.7 MB/s\u001b[0m eta \u001b[36m0:00:00\u001b[0m00:01\u001b[0m00:01\u001b[0m\n",
            "\u001b[?25hInstalling collected packages: pip\n",
            "  Attempting uninstall: pip\n",
            "    Found existing installation: pip 22.1.2\n",
            "    Uninstalling pip-22.1.2:\n",
            "      Successfully uninstalled pip-22.1.2\n",
            "\u001b[31mERROR: pip's dependency resolver does not currently take into account all the packages that are installed. This behaviour is the source of the following dependency conflicts.\n",
            "fastai 2.7.3 requires torch<1.12,>=1.7.0, but you have torch 1.13.0.dev20220718 which is incompatible.\u001b[0m\u001b[31m\n",
            "\u001b[0mSuccessfully installed pip-22.2.1\n"
          ]
        }
      ],
      "source": [
        "#엑셀 파일을 조작하기 위한 xlrd 패키지를 설치합니다\n",
        "!pip install xlrd\n",
        "!pip install --upgrade pip"
      ]
    },
    {
      "cell_type": "code",
      "execution_count": 15,
      "metadata": {
        "colab": {
          "base_uri": "https://localhost:8080/"
        },
        "id": "NtqxFmigmnQg",
        "outputId": "6c5ef23c-5b70-4b7c-8f33-84ed1ad24462"
      },
      "outputs": [
        {
          "name": "stdout",
          "output_type": "stream",
          "text": [
            "스프레드시트 이름은 Feb 2014 입니다\n",
            "스프레드시트 이름은 Mar 2014 입니다\n"
          ]
        },
        {
          "name": "stderr",
          "output_type": "stream",
          "text": [
            "/var/folders/bb/yv8h0hc15pb4z0fy_6mz6mth0000gn/T/ipykernel_21455/1065257864.py:19: FutureWarning: The frame.append method is deprecated and will be removed from pandas in a future version. Use pandas.concat instead.\n",
            "  df = df.append(data)\n",
            "/var/folders/bb/yv8h0hc15pb4z0fy_6mz6mth0000gn/T/ipykernel_21455/1065257864.py:19: FutureWarning: The frame.append method is deprecated and will be removed from pandas in a future version. Use pandas.concat instead.\n",
            "  df = df.append(data)\n"
          ]
        },
        {
          "name": "stdout",
          "output_type": "stream",
          "text": [
            "스프레드시트 이름은 Apr 2014 입니다\n",
            "스프레드시트 이름은 May 2014 입니다\n"
          ]
        },
        {
          "name": "stderr",
          "output_type": "stream",
          "text": [
            "/var/folders/bb/yv8h0hc15pb4z0fy_6mz6mth0000gn/T/ipykernel_21455/1065257864.py:19: FutureWarning: The frame.append method is deprecated and will be removed from pandas in a future version. Use pandas.concat instead.\n",
            "  df = df.append(data)\n",
            "/var/folders/bb/yv8h0hc15pb4z0fy_6mz6mth0000gn/T/ipykernel_21455/1065257864.py:19: FutureWarning: The frame.append method is deprecated and will be removed from pandas in a future version. Use pandas.concat instead.\n",
            "  df = df.append(data)\n"
          ]
        },
        {
          "name": "stdout",
          "output_type": "stream",
          "text": [
            "스프레드시트 이름은 Jun 2014 입니다\n",
            "스프레드시트 이름은 July 2014 입니다\n"
          ]
        },
        {
          "name": "stderr",
          "output_type": "stream",
          "text": [
            "/var/folders/bb/yv8h0hc15pb4z0fy_6mz6mth0000gn/T/ipykernel_21455/1065257864.py:19: FutureWarning: The frame.append method is deprecated and will be removed from pandas in a future version. Use pandas.concat instead.\n",
            "  df = df.append(data)\n",
            "/var/folders/bb/yv8h0hc15pb4z0fy_6mz6mth0000gn/T/ipykernel_21455/1065257864.py:19: FutureWarning: The frame.append method is deprecated and will be removed from pandas in a future version. Use pandas.concat instead.\n",
            "  df = df.append(data)\n"
          ]
        },
        {
          "name": "stdout",
          "output_type": "stream",
          "text": [
            "스프레드시트 이름은 Aug 2014 입니다\n",
            "스프레드시트 이름은 Sept 2014 입니다\n"
          ]
        },
        {
          "name": "stderr",
          "output_type": "stream",
          "text": [
            "/var/folders/bb/yv8h0hc15pb4z0fy_6mz6mth0000gn/T/ipykernel_21455/1065257864.py:19: FutureWarning: The frame.append method is deprecated and will be removed from pandas in a future version. Use pandas.concat instead.\n",
            "  df = df.append(data)\n",
            "/var/folders/bb/yv8h0hc15pb4z0fy_6mz6mth0000gn/T/ipykernel_21455/1065257864.py:19: FutureWarning: The frame.append method is deprecated and will be removed from pandas in a future version. Use pandas.concat instead.\n",
            "  df = df.append(data)\n"
          ]
        },
        {
          "name": "stdout",
          "output_type": "stream",
          "text": [
            "스프레드시트 이름은 Oct 2014 입니다\n",
            "스프레드시트 이름은 Nov 2014 입니다\n"
          ]
        },
        {
          "name": "stderr",
          "output_type": "stream",
          "text": [
            "/var/folders/bb/yv8h0hc15pb4z0fy_6mz6mth0000gn/T/ipykernel_21455/1065257864.py:19: FutureWarning: The frame.append method is deprecated and will be removed from pandas in a future version. Use pandas.concat instead.\n",
            "  df = df.append(data)\n",
            "/var/folders/bb/yv8h0hc15pb4z0fy_6mz6mth0000gn/T/ipykernel_21455/1065257864.py:19: FutureWarning: The frame.append method is deprecated and will be removed from pandas in a future version. Use pandas.concat instead.\n",
            "  df = df.append(data)\n"
          ]
        },
        {
          "name": "stdout",
          "output_type": "stream",
          "text": [
            "스프레드시트 이름은 Dec 2014 입니다\n"
          ]
        },
        {
          "name": "stderr",
          "output_type": "stream",
          "text": [
            "/var/folders/bb/yv8h0hc15pb4z0fy_6mz6mth0000gn/T/ipykernel_21455/1065257864.py:19: FutureWarning: The frame.append method is deprecated and will be removed from pandas in a future version. Use pandas.concat instead.\n",
            "  df = df.append(data)\n"
          ]
        }
      ],
      "source": [
        "# 팬더스 라이브러리를 불러옵니다\n",
        "import pandas as pd\n",
        "\n",
        "# 읽을 파일명을 정의합니다\n",
        "file = \"ttc-streetcar-delay-data-2014.xlsx\"\n",
        "\n",
        "# 해당 엑셀 파일의 메타데이터를 읽어들입니다\n",
        "xlsf = pd.ExcelFile(os.path.join(path,file))\n",
        "\n",
        "# 해당 엑셀파일내 첫 번째 스프레드시트를 팬더스 데이터프레임으로 만듭니다\n",
        "df = pd.read_excel(os.path.join(path,file),sheet_name=xlsf.sheet_names[0])\n",
        "\n",
        "# 그 후 나머지 스프레드시트를 반복적으로 접근하면서, 앞서 만든 데이터프레임에 이어붙여 줍니다\n",
        "for sheet_name in xlsf.sheet_names[1:]:\n",
        "    print(\"스프레드시트 이름은\", sheet_name, \"입니다\")\n",
        "    # 반복문내 현재 접근한 스프레드시트를 읽어 팬더스 데이터프레임으로 만듭니다\n",
        "    data = pd.read_excel(os.path.join(path,file),sheet_name=sheet_name)\n",
        "    # 기존 데이터프레임에 읽은 데이터프레임을 이어 붙입니다\n",
        "    df = df.append(data)\n"
      ]
    },
    {
      "cell_type": "code",
      "execution_count": 16,
      "metadata": {
        "colab": {
          "base_uri": "https://localhost:8080/"
        },
        "id": "0tbgkYkimnQh",
        "outputId": "e86de49b-750c-4a23-8192-0ef4ad947c32"
      },
      "outputs": [
        {
          "data": {
            "text/plain": [
              "(11027, 10)"
            ]
          },
          "execution_count": 16,
          "metadata": {},
          "output_type": "execute_result"
        }
      ],
      "source": [
        "# 데이터프레임의 크기를 출력합니다\n",
        "# 첫 번째는 데이터의 개수를, 두 번째는 열 개수를 의미합니다\n",
        "df.shape"
      ]
    },
    {
      "cell_type": "code",
      "execution_count": 17,
      "metadata": {
        "colab": {
          "base_uri": "https://localhost:8080/",
          "height": 204
        },
        "id": "cDW05W0NmnQh",
        "outputId": "54908781-74be-4ab0-f370-5b0753c4dc59"
      },
      "outputs": [
        {
          "data": {
            "text/html": [
              "<div>\n",
              "<style scoped>\n",
              "    .dataframe tbody tr th:only-of-type {\n",
              "        vertical-align: middle;\n",
              "    }\n",
              "\n",
              "    .dataframe tbody tr th {\n",
              "        vertical-align: top;\n",
              "    }\n",
              "\n",
              "    .dataframe thead th {\n",
              "        text-align: right;\n",
              "    }\n",
              "</style>\n",
              "<table border=\"1\" class=\"dataframe\">\n",
              "  <thead>\n",
              "    <tr style=\"text-align: right;\">\n",
              "      <th></th>\n",
              "      <th>Report Date</th>\n",
              "      <th>Route</th>\n",
              "      <th>Time</th>\n",
              "      <th>Day</th>\n",
              "      <th>Location</th>\n",
              "      <th>Incident</th>\n",
              "      <th>Min Delay</th>\n",
              "      <th>Min Gap</th>\n",
              "      <th>Direction</th>\n",
              "      <th>Vehicle</th>\n",
              "    </tr>\n",
              "  </thead>\n",
              "  <tbody>\n",
              "    <tr>\n",
              "      <th>0</th>\n",
              "      <td>2014-01-02</td>\n",
              "      <td>505</td>\n",
              "      <td>06:31:00</td>\n",
              "      <td>Thursday</td>\n",
              "      <td>Dundas and Roncesvalles</td>\n",
              "      <td>Late Leaving Garage</td>\n",
              "      <td>4.0</td>\n",
              "      <td>8.0</td>\n",
              "      <td>E/B</td>\n",
              "      <td>4018.0</td>\n",
              "    </tr>\n",
              "    <tr>\n",
              "      <th>1</th>\n",
              "      <td>2014-01-02</td>\n",
              "      <td>504</td>\n",
              "      <td>12:43:00</td>\n",
              "      <td>Thursday</td>\n",
              "      <td>King and Shaw</td>\n",
              "      <td>Utilized Off Route</td>\n",
              "      <td>20.0</td>\n",
              "      <td>22.0</td>\n",
              "      <td>E/B</td>\n",
              "      <td>4128.0</td>\n",
              "    </tr>\n",
              "    <tr>\n",
              "      <th>2</th>\n",
              "      <td>2014-01-02</td>\n",
              "      <td>501</td>\n",
              "      <td>14:01:00</td>\n",
              "      <td>Thursday</td>\n",
              "      <td>Kingston road and Bingham</td>\n",
              "      <td>Held By</td>\n",
              "      <td>13.0</td>\n",
              "      <td>19.0</td>\n",
              "      <td>W/B</td>\n",
              "      <td>4016.0</td>\n",
              "    </tr>\n",
              "    <tr>\n",
              "      <th>3</th>\n",
              "      <td>2014-01-02</td>\n",
              "      <td>504</td>\n",
              "      <td>14:22:00</td>\n",
              "      <td>Thursday</td>\n",
              "      <td>King St. and Roncesvalles Ave.</td>\n",
              "      <td>Investigation</td>\n",
              "      <td>7.0</td>\n",
              "      <td>11.0</td>\n",
              "      <td>W/B</td>\n",
              "      <td>4175.0</td>\n",
              "    </tr>\n",
              "    <tr>\n",
              "      <th>4</th>\n",
              "      <td>2014-01-02</td>\n",
              "      <td>504</td>\n",
              "      <td>16:42:00</td>\n",
              "      <td>Thursday</td>\n",
              "      <td>King and Bathurst</td>\n",
              "      <td>Utilized Off Route</td>\n",
              "      <td>3.0</td>\n",
              "      <td>6.0</td>\n",
              "      <td>E/B</td>\n",
              "      <td>4080.0</td>\n",
              "    </tr>\n",
              "  </tbody>\n",
              "</table>\n",
              "</div>"
            ],
            "text/plain": [
              "  Report Date  Route      Time       Day                        Location  \\\n",
              "0  2014-01-02    505  06:31:00  Thursday         Dundas and Roncesvalles   \n",
              "1  2014-01-02    504  12:43:00  Thursday                   King and Shaw   \n",
              "2  2014-01-02    501  14:01:00  Thursday       Kingston road and Bingham   \n",
              "3  2014-01-02    504  14:22:00  Thursday  King St. and Roncesvalles Ave.   \n",
              "4  2014-01-02    504  16:42:00  Thursday               King and Bathurst   \n",
              "\n",
              "              Incident  Min Delay  Min Gap Direction  Vehicle  \n",
              "0  Late Leaving Garage        4.0      8.0       E/B   4018.0  \n",
              "1   Utilized Off Route       20.0     22.0       E/B   4128.0  \n",
              "2              Held By       13.0     19.0       W/B   4016.0  \n",
              "3        Investigation        7.0     11.0       W/B   4175.0  \n",
              "4   Utilized Off Route        3.0      6.0       E/B   4080.0  "
            ]
          },
          "execution_count": 17,
          "metadata": {},
          "output_type": "execute_result"
        }
      ],
      "source": [
        "# 데이터프레임의 첫 다섯 개 데이터를 출력합니다\n",
        "df.head()"
      ]
    },
    {
      "cell_type": "code",
      "execution_count": 18,
      "metadata": {
        "colab": {
          "base_uri": "https://localhost:8080/",
          "height": 204
        },
        "id": "HHpaq3JPmnQh",
        "outputId": "e5ebdd92-8749-4db2-b861-0b1667231afc",
        "scrolled": true
      },
      "outputs": [
        {
          "data": {
            "text/html": [
              "<div>\n",
              "<style scoped>\n",
              "    .dataframe tbody tr th:only-of-type {\n",
              "        vertical-align: middle;\n",
              "    }\n",
              "\n",
              "    .dataframe tbody tr th {\n",
              "        vertical-align: top;\n",
              "    }\n",
              "\n",
              "    .dataframe thead th {\n",
              "        text-align: right;\n",
              "    }\n",
              "</style>\n",
              "<table border=\"1\" class=\"dataframe\">\n",
              "  <thead>\n",
              "    <tr style=\"text-align: right;\">\n",
              "      <th></th>\n",
              "      <th>Report Date</th>\n",
              "      <th>Route</th>\n",
              "      <th>Time</th>\n",
              "      <th>Day</th>\n",
              "      <th>Location</th>\n",
              "      <th>Incident</th>\n",
              "      <th>Min Delay</th>\n",
              "      <th>Min Gap</th>\n",
              "      <th>Direction</th>\n",
              "      <th>Vehicle</th>\n",
              "    </tr>\n",
              "  </thead>\n",
              "  <tbody>\n",
              "    <tr>\n",
              "      <th>869</th>\n",
              "      <td>2014-12-31</td>\n",
              "      <td>509</td>\n",
              "      <td>22:30:00</td>\n",
              "      <td>Wednesday</td>\n",
              "      <td>Union Loop to Exhibition Loop</td>\n",
              "      <td>General Delay</td>\n",
              "      <td>10.0</td>\n",
              "      <td>20.0</td>\n",
              "      <td>B/W</td>\n",
              "      <td>NaN</td>\n",
              "    </tr>\n",
              "    <tr>\n",
              "      <th>870</th>\n",
              "      <td>2014-12-31</td>\n",
              "      <td>504</td>\n",
              "      <td>22:54:00</td>\n",
              "      <td>Wednesday</td>\n",
              "      <td>King and Dunn</td>\n",
              "      <td>Emergency Services</td>\n",
              "      <td>11.0</td>\n",
              "      <td>16.0</td>\n",
              "      <td>E/B</td>\n",
              "      <td>4128.0</td>\n",
              "    </tr>\n",
              "    <tr>\n",
              "      <th>871</th>\n",
              "      <td>2014-12-31</td>\n",
              "      <td>505</td>\n",
              "      <td>23:00:00</td>\n",
              "      <td>Wednesday</td>\n",
              "      <td>Dundas West Station to Broadview Station</td>\n",
              "      <td>General Delay</td>\n",
              "      <td>10.0</td>\n",
              "      <td>12.0</td>\n",
              "      <td>B/W</td>\n",
              "      <td>NaN</td>\n",
              "    </tr>\n",
              "    <tr>\n",
              "      <th>872</th>\n",
              "      <td>2014-12-31</td>\n",
              "      <td>511</td>\n",
              "      <td>23:01:00</td>\n",
              "      <td>Wednesday</td>\n",
              "      <td>CNE</td>\n",
              "      <td>Mechanical</td>\n",
              "      <td>8.0</td>\n",
              "      <td>16.0</td>\n",
              "      <td>N/B</td>\n",
              "      <td>4160.0</td>\n",
              "    </tr>\n",
              "    <tr>\n",
              "      <th>873</th>\n",
              "      <td>2014-12-31</td>\n",
              "      <td>504</td>\n",
              "      <td>23:18:00</td>\n",
              "      <td>Wednesday</td>\n",
              "      <td>King and Bathurst</td>\n",
              "      <td>Mechanical</td>\n",
              "      <td>7.0</td>\n",
              "      <td>14.0</td>\n",
              "      <td>E/B</td>\n",
              "      <td>4128.0</td>\n",
              "    </tr>\n",
              "  </tbody>\n",
              "</table>\n",
              "</div>"
            ],
            "text/plain": [
              "    Report Date  Route      Time        Day  \\\n",
              "869  2014-12-31    509  22:30:00  Wednesday   \n",
              "870  2014-12-31    504  22:54:00  Wednesday   \n",
              "871  2014-12-31    505  23:00:00  Wednesday   \n",
              "872  2014-12-31    511  23:01:00  Wednesday   \n",
              "873  2014-12-31    504  23:18:00  Wednesday   \n",
              "\n",
              "                                     Location            Incident  Min Delay  \\\n",
              "869             Union Loop to Exhibition Loop       General Delay       10.0   \n",
              "870                             King and Dunn  Emergency Services       11.0   \n",
              "871  Dundas West Station to Broadview Station       General Delay       10.0   \n",
              "872                                       CNE          Mechanical        8.0   \n",
              "873                         King and Bathurst          Mechanical        7.0   \n",
              "\n",
              "     Min Gap Direction  Vehicle  \n",
              "869     20.0       B/W      NaN  \n",
              "870     16.0       E/B   4128.0  \n",
              "871     12.0       B/W      NaN  \n",
              "872     16.0       N/B   4160.0  \n",
              "873     14.0       E/B   4128.0  "
            ]
          },
          "execution_count": 18,
          "metadata": {},
          "output_type": "execute_result"
        }
      ],
      "source": [
        "# 데이터프레임의 마지막 다섯 개의 데이터를 출력합니다\n",
        "df.tail()"
      ]
    },
    {
      "cell_type": "code",
      "execution_count": 19,
      "metadata": {
        "id": "Qzf9Bj5ZmnQi"
      },
      "outputs": [],
      "source": [
        "# 데이터프레임을 파일시스템에 피클 파일 형식으로 저장합니다\n",
        "file = \"iris_dataframe.pkl\"\n",
        "iris_dataframe.to_pickle(os.path.join(path,file))"
      ]
    },
    {
      "cell_type": "code",
      "execution_count": 20,
      "metadata": {
        "colab": {
          "base_uri": "https://localhost:8080/",
          "height": 204
        },
        "id": "b1-7SkQ4mnQi",
        "outputId": "3f8a4f7d-3a16-4b6a-b51b-27d15470a353"
      },
      "outputs": [
        {
          "data": {
            "text/html": [
              "<div>\n",
              "<style scoped>\n",
              "    .dataframe tbody tr th:only-of-type {\n",
              "        vertical-align: middle;\n",
              "    }\n",
              "\n",
              "    .dataframe tbody tr th {\n",
              "        vertical-align: top;\n",
              "    }\n",
              "\n",
              "    .dataframe thead th {\n",
              "        text-align: right;\n",
              "    }\n",
              "</style>\n",
              "<table border=\"1\" class=\"dataframe\">\n",
              "  <thead>\n",
              "    <tr style=\"text-align: right;\">\n",
              "      <th></th>\n",
              "      <th>sepal_length</th>\n",
              "      <th>sepal_width</th>\n",
              "      <th>petal_length</th>\n",
              "      <th>petal_width</th>\n",
              "      <th>species</th>\n",
              "    </tr>\n",
              "  </thead>\n",
              "  <tbody>\n",
              "    <tr>\n",
              "      <th>0</th>\n",
              "      <td>5.1</td>\n",
              "      <td>3.5</td>\n",
              "      <td>1.4</td>\n",
              "      <td>0.2</td>\n",
              "      <td>Setosa</td>\n",
              "    </tr>\n",
              "    <tr>\n",
              "      <th>1</th>\n",
              "      <td>4.9</td>\n",
              "      <td>3.0</td>\n",
              "      <td>1.4</td>\n",
              "      <td>0.2</td>\n",
              "      <td>Setosa</td>\n",
              "    </tr>\n",
              "    <tr>\n",
              "      <th>2</th>\n",
              "      <td>4.7</td>\n",
              "      <td>3.2</td>\n",
              "      <td>1.3</td>\n",
              "      <td>0.2</td>\n",
              "      <td>Setosa</td>\n",
              "    </tr>\n",
              "    <tr>\n",
              "      <th>3</th>\n",
              "      <td>4.6</td>\n",
              "      <td>3.1</td>\n",
              "      <td>1.5</td>\n",
              "      <td>0.2</td>\n",
              "      <td>Setosa</td>\n",
              "    </tr>\n",
              "    <tr>\n",
              "      <th>4</th>\n",
              "      <td>5.0</td>\n",
              "      <td>3.6</td>\n",
              "      <td>1.4</td>\n",
              "      <td>0.2</td>\n",
              "      <td>Setosa</td>\n",
              "    </tr>\n",
              "  </tbody>\n",
              "</table>\n",
              "</div>"
            ],
            "text/plain": [
              "   sepal_length  sepal_width  petal_length  petal_width species\n",
              "0           5.1          3.5           1.4          0.2  Setosa\n",
              "1           4.9          3.0           1.4          0.2  Setosa\n",
              "2           4.7          3.2           1.3          0.2  Setosa\n",
              "3           4.6          3.1           1.5          0.2  Setosa\n",
              "4           5.0          3.6           1.4          0.2  Setosa"
            ]
          },
          "execution_count": 20,
          "metadata": {},
          "output_type": "execute_result"
        }
      ],
      "source": [
        "# 저장된 피클 파일을 데이터프레임으로 불러옵니다\n",
        "file = \"iris_dataframe.pkl\"\n",
        "iris_dataframe_from_pickle = pd.read_pickle(os.path.join(path,file))\n",
        "\n",
        "# 그리고, 정상적으로 저장되었는지를 확인합니다\n",
        "iris_dataframe_from_pickle.head()"
      ]
    },
    {
      "cell_type": "code",
      "execution_count": null,
      "metadata": {
        "id": "Fef3Pi-9q6ol"
      },
      "outputs": [],
      "source": []
    }
  ],
  "metadata": {
    "colab": {
      "include_colab_link": true,
      "name": "chapter2.ipynb",
      "provenance": []
    },
    "kernelspec": {
      "display_name": "Python 3.9.13 ('torch')",
      "language": "python",
      "name": "python3"
    },
    "language_info": {
      "codemirror_mode": {
        "name": "ipython",
        "version": 3
      },
      "file_extension": ".py",
      "mimetype": "text/x-python",
      "name": "python",
      "nbconvert_exporter": "python",
      "pygments_lexer": "ipython3",
      "version": "3.9.13"
    },
    "vscode": {
      "interpreter": {
        "hash": "efe379ce177169b44d92f6293e4804fb4b64dd48c6dbf719873d158e646669bc"
      }
    }
  },
  "nbformat": 4,
  "nbformat_minor": 0
}
